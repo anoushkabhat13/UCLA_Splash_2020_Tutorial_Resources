{
  "nbformat": 4,
  "nbformat_minor": 0,
  "metadata": {
    "colab": {
      "name": "Python_Fundamentals.ipynb",
      "provenance": [],
      "collapsed_sections": [],
      "include_colab_link": true
    },
    "kernelspec": {
      "display_name": "Python 3",
      "language": "python",
      "name": "python3"
    },
    "language_info": {
      "codemirror_mode": {
        "name": "ipython",
        "version": 3
      },
      "file_extension": ".py",
      "mimetype": "text/x-python",
      "name": "python",
      "nbconvert_exporter": "python",
      "pygments_lexer": "ipython3",
      "version": "3.6.8"
    },
    "nbTranslate": {
      "displayLangs": [
        "*"
      ],
      "hotkey": "alt-t",
      "langInMainMenu": true,
      "sourceLang": "en",
      "targetLang": "fr",
      "useGoogleTranslate": true
    }
  },
  "cells": [
    {
      "cell_type": "markdown",
      "metadata": {
        "id": "view-in-github",
        "colab_type": "text"
      },
      "source": [
        "<a href=\"https://colab.research.google.com/github/anoushkabhat13/UCLA_Splash_2020_Tutorial_Resources/blob/master/Python_Fundamentals.ipynb\" target=\"_parent\"><img src=\"https://colab.research.google.com/assets/colab-badge.svg\" alt=\"Open In Colab\"/></a>"
      ]
    },
    {
      "cell_type": "markdown",
      "metadata": {
        "colab_type": "text",
        "id": "QedF985a914Z"
      },
      "source": [
        "<br></br>\n",
        "<h1 style=\"text-align:center;\">Python Fundamentals</h1>\n",
        "\n",
        "![test](https://raw.githubusercontent.com/someone20dz/UCLA_Splash_2020_Tutorial_Resources/master/M196/python_fund/images/1_b3sa3Kkdyv4diV26-DzdPQ.png)\n",
        "\n",
        "<h2>Table of Contents</h2>\n",
        "\n",
        "<h4>1. Introduction to Programming </h4>\n",
        "\n",
        "<h4>2. What is a Programming Language?\n",
        "\n",
        "<h4>3. The importance of communication\n",
        "\n",
        "<h4>2. Introduction to Python</h4>\n",
        "\n",
        "<h4>3. Python characteristics and Features</h4>\n",
        "\n",
        "<h2>1. Introduction to Programming </h2>\n",
        "\n",
        "<h3>\n",
        "\n",
        "\n",
        "\n",
        "\n",
        "Steve Jobs once said \"Everybody in this country should learn how to program a computer because it teaches you how to think.\" Language has been our primary mean of communication for thousands of years. Just like how humans speak languages to communicate, programming allows people to instruct computers to perform certain tasks, or in other words, communicate with the computer. Have you ever wanted to create your own games, make an e-commerce website, analyze the latest trend in stocks, or even make a robot? Programming is a versatile tool with limitless possibilities. Programming was used to do everything from code the Amazon Alexa to create Sophia, a humanlike AI robot which can react and speak with humans. Programming is integrated into everything around us, and learning programming languages is an exciting skill and very applicable in the 21st century.\n",
        "\n",
        "\n",
        "<h2> 2. What is a Programming Language?\n",
        "\n",
        "So what exactly is a programming language? A programming language is a computer language that people use to develop code. Python, Java, C++, and Perl are all examples of programming languages. They all have code which tell the computer what to do, but their <b>syntax</b> is a little bit different. Think of programming languages like different dialects of a language. Each dialect is a little bit different, but the same message will get across.\n",
        "\n",
        "\n",
        "Let's take a look at a simple example. \n",
        "\n",
        "\n",
        "In python, if you want the computer to output \"Hello world\", you would type the code:\n",
        "   \n",
        "   \n",
        "           print \"Hello World\"\n",
        "\n",
        "\n",
        "Whereas in Java, if you wanted the computer to output \"Hello World\", you would code:\n",
        "\n",
        "\n",
        "           System.out.print(\"Hello World\");\n",
        "  \n",
        "\n",
        "![testa](https://raw.githubusercontent.com/someone20dz/UCLA_Splash_2020_Tutorial_Resources/master/M196/python_fund/images/thumb-1920-679140.png)\n",
        "\n",
        "\n",
        "\n",
        "<h2> 3. The importance of computing in communication\n",
        "\n",
        "\n",
        "   Our world is filled with computers and their commonality is the numerical language they use to communicate, and that all their functionalities and features are based on programming. When you start coding, you’ll find it’s not much different from writing texts or emails. Code is used to communicate within many pieces of hardware and software, and this makes communication easier for many reasons, including but not limited to:\n",
        "\n",
        "<h4>1.  Computer communication is a useful tool in both personal and business settings.<h4>\n",
        "<h4>2.  The ability to communicate across great distances and for an unlimited number of people.</h4>\n",
        "<h4>4.  Enhances the availability of information</h4>\n",
        "<h4>5.  Connects you to the Internet.</h4>\n",
        "<h4>6.  Increase your productivity.</h4>\n",
        "<h4>7.  Can store vast amounts of information and reduce waste.</h4>\n",
        "<h4>8.  Helps sort, organize, and search through information.</h4>\n",
        "<h4>9.  Helps you have a better understanding of data.</h4>\n",
        "<h4>10. Keeps you informed</h4>\n",
        "<h4>12. Keep you entertained</h4>\n",
        "<h4>13. Makes file sharing easier.</h4>\n",
        "\n",
        "<h2>2. Introduction to Python:</h2>\n",
        "\n",
        "Python is a very simple programming language, developed in the late 1980s by Guido van Rossum at the National Research Institute in Netherlands and it was released in the year 1991. Python is designed to be highly readable, meaning that it uses English keywords frequently where as other languages use punctuation, and can also program with simpler, shorter code. Python is a very good beginner programming language and can also be used for more advanced functions like creating analytical charts and arrays that are useful in data science.\n",
        "\n",
        "\n",
        "<h2>3. Python Features and characteristics</h2>\n",
        "\n",
        "\n",
        "<h3>Python Features</h3>\n",
        "--------------------------------------\n",
        "\n",
        "* <h3>Easy-to-learn:</h3>\n",
        "\n",
        "<h5>Python has a simple structure, allowing learners to pick up the language quickly and it can be easily coded. </h5>\n",
        "\n",
        "* <h3>Easy-to-read:</h3>\n",
        "\n",
        "<h5> Python code is clearer than other languages, and the visual formatting is more defined.</h5>\n",
        "\n",
        "* <h3>Portable:</h3>\n",
        "\n",
        "<h5>Python can run on a wide variety of hardware platforms and has the same interface on all of them.</h5>\n",
        "\n",
        "* <h3>Extendable:</h3>\n",
        "\n",
        "<h5>You can add low-level modules to the Python interpreter. These modules enable programmers to add to or customize their tools to be more efficient. In other words, you can import small programs to Python that allow you to easily make charts, or arrays without many constraints.  </h5>\n",
        "\n",
        "* <h3>GUI (Graphical User Interface) Programming:</h3>\n",
        "\n",
        "<h5>Python supports GUI application that can be developed using Python. A GUI is ba</h5>\n",
        "\n",
        "* <h3>Large standard library:</h3>\n",
        "\n",
        "<h5>Python comes with a large standard library that has lot of handy codes and functions which we can use while writing code in Python.</h5>\n",
        "\n",
        "<h3>Python characteristics</h3>\n",
        "---------------------------------------\n",
        "\n",
        "* <h3>High-level language:</h3>\n",
        "\n",
        "<h5>It is a high-level language used for scripting. It means one does not need to remember the system architecture and no need for managing the memory as well.</h5>\n",
        "\n",
        "* <h3>Open source:</h3>\n",
        "\n",
        "<h5>Python is open source and readily available over the internet anywhere. One does not need to take the license of it. It can be easily downloaded and used.</h5>\n",
        "\n",
        "* <h3>Databases:</h3>\n",
        "\n",
        "<h5>Python provides interfaces to all major commercial databases.</h5>\n",
        "\n",
        "* <h3>Interpreted:</h3>\n",
        "\n",
        "<h5>The python code does not need to compile as required for other languages. Python code automatically converts the source code into byte code internally and the code is executed line by line not at once, so it takes more time to execute the code for the application.</h5>\n",
        "\n",
        "* <h3>Platform independent:</h3>\n",
        "\n",
        "<h5>Python is platform independent. The python code can be used for any operating system like Windows, Unix, Linux, and Mac. There is no need to write different code for the different OS.</h5>\n",
        "\n",
        "* <h3>Interactive Mode:</h3>\n",
        "\n",
        "<h5>Python has support for an interactive mode which allows interactive testing and debugging of snippets of code.</h5>\n",
        "\n",
        "* <h3>A broad standard library:</h3>\n",
        "\n",
        "<h5>Python's bulk of the library is very portable and cross-platform compatible on UNIX, Windows, and Macintosh.</h5>\n",
        "\n",
        "* <h3>Scalable:</h3>\n",
        "\n",
        "<h5>Python provides a better structure and support for large programs than shell scripting.</h5>\n",
        "\n",
        "<h2> Introduction to Python Basics</h2>\n",
        "-------------------------------------------------------------------------------\n",
        "\n",
        "<h5>In this part we are going to cover the basics of python lets start with variables and how to use them</h5>\n",
        "\n",
        "<h5>Variables: You can think of variables as box container like we can store stuff in a box we store data in side variables<h5\n",
        "\n",
        "![types](https://raw.githubusercontent.com/someone20dz/UCLA_Splash_2020_Tutorial_Resources/master/M196/python_fund/images/types.png)\n",
        "\n",
        "<h2>Variables Types:</h2>\n",
        "\n",
        "<h5>Intgers: whole numbers that holds one element positive or negative such as:\n",
        "0 1 -6 -2565 5656\n",
        "WE refer to Intgers in side a python program with (int)</h5>\n",
        "\n",
        "<h5>Floats: are decimal point numbers it can hold one element such as:\n",
        "1.0 6685.0 -568.5685 -5.59 23.59\n",
        "WE refer to Floats in side a python program with (float)</h5>\n",
        "\n",
        "<h5>Strings: ordered sequence of characters it can hold a whole text such as:\n",
        "\"Hello\",\"am student i am learning python to become python developer\"\n",
        "We refer to Strings in side a python program with (str)</h5>\n",
        "\n",
        "<h5>Booleans: logical value refers to True or False such as: \n",
        "10 > 16 which is of ocurs False\n",
        "We refer to Booleans in side a python program with (bool)</h5>\n",
        "\n",
        "<h5>Lists: ordered sequence of objects,Lists are mutable they can be altered even after their creation such as:\n",
        "myList = [10,\"john\",\"10\"]\n",
        "We refer to Lists in side a python program with (list)</h5>\n",
        "\n",
        "<h5>Dictionaries: collection of data values unlike other Data Types that hold only single value as an element dictionary holds 2 elements keys:value such ah myDictionary = {\"apples\":10,orange:13} or {\"name\":\"age\",\"john\":\"21\"}\n",
        "We refer to Lists in side a python program with (dict)</h5>\n",
        "\n",
        "<h5>Tuples: a sequence of immutable objects Tuples are sequences just like lists but they are immutable they can't be altered after their creation such as: \n",
        "myTuple = (\"apple\", \"banana\", \"cherry\")\n",
        "We refer to Typles in side a python program with (tup)</h5>\n",
        "\n",
        "<h5>Sets: unordered collection data type that is iterable,mutable,unindexed</h5>\n",
        "\n",
        "<h5>later we will cover what does indexing, mutable,unmutable,iterable,uniterable meaning for now lets go through some examples</h5>"
      ]
    },
    {
      "cell_type": "markdown",
      "metadata": {
        "id": "ASSmqG3Uvdz_",
        "colab_type": "text"
      },
      "source": [
        ""
      ]
    },
    {
      "cell_type": "markdown",
      "metadata": {
        "id": "IlU64sTMvZ0p",
        "colab_type": "text"
      },
      "source": [
        "<h1>Examples:</h1>"
      ]
    },
    {
      "cell_type": "markdown",
      "metadata": {
        "id": "Nr_j1YPrvZ0q",
        "colab_type": "text"
      },
      "source": [
        "<h3>Example 1:</h3>"
      ]
    },
    {
      "cell_type": "code",
      "metadata": {
        "id": "kACzuSv8vZ0q",
        "colab_type": "code",
        "outputId": "402b674c-1917-402c-a935-619c16cd70ca",
        "colab": {}
      },
      "source": [
        "#Quick tip: if you are using jupyter or google colab you can use Shift + Enter to run a cell \n",
        "#           if you are using pycharm you can simply do Shift + F10\n",
        "\n",
        "#Variable and how to use them: Example One:\n",
        "\n",
        "#quick example of that would be the following.\n",
        "myText = \"Hello Wolds\"\n",
        "#myText here refers to the name of the variable and what comes next is the data type that it holds\n",
        "#we can also put our text in side single quotation 'Hi,How are you?'.\n",
        "\n",
        "print(myText)\n",
        "#Quick task for you:\n",
        "#What i want you to do is print out 3 diffrent texts on the screen"
      ],
      "execution_count": 0,
      "outputs": [
        {
          "output_type": "stream",
          "text": [
            "Hello Wolds\n"
          ],
          "name": "stdout"
        }
      ]
    },
    {
      "cell_type": "markdown",
      "metadata": {
        "id": "03ZdttbnvZ0u",
        "colab_type": "text"
      },
      "source": [
        "<h3>Exaample 2:</h3>"
      ]
    },
    {
      "cell_type": "code",
      "metadata": {
        "id": "w8zrt9KXvZ0u",
        "colab_type": "code",
        "outputId": "b4e720a6-1432-427a-d213-396c01ff2793",
        "colab": {}
      },
      "source": [
        "#Variable and how to use them:\n",
        "#Example Two\n",
        "#Now we are going through integers floats and how to use simple math calculations\n",
        "\n",
        "# First varaible hold intger data type\n",
        "numberOne = 10\n",
        "# Second variable hold float data type\n",
        "numberTwo = 15.2\n",
        "\n",
        "#Now we can store the sum in side a new variable called for instance result\n",
        "#what we do next is pass in the first varaible plus the second varaible in order to get sum of two numbers\n",
        "result = numberOne + numberTwo\n",
        "\n",
        "#printing the result\n",
        "print(result)"
      ],
      "execution_count": 0,
      "outputs": [
        {
          "output_type": "stream",
          "text": [
            "25.2\n"
          ],
          "name": "stdout"
        }
      ]
    },
    {
      "cell_type": "markdown",
      "metadata": {
        "id": "xYFNAhN4vZ0w",
        "colab_type": "text"
      },
      "source": [
        "<h3>Example 3:</h3>"
      ]
    },
    {
      "cell_type": "code",
      "metadata": {
        "id": "8xB-B6f_vZ0w",
        "colab_type": "code",
        "outputId": "02da7ae6-d329-40da-98fb-27582707fd45",
        "colab": {}
      },
      "source": [
        "#Let's talk about booleans\n",
        "#booleans are just like variables but they hold either True or False value:\n",
        "\n",
        "#This is one way to check if two numbers hold the same value in this case it is False\n",
        "Number1 = 10\n",
        "Number2 = 16\n",
        "test = Number1  == Number2 \n",
        "# This is ofcours False\n",
        "print(test)\n",
        "\n",
        "#pay attention that the first Letter must be UpperCase\n",
        "myBool = True      #this is not correct--> #true\n",
        "myBool2 = False    #this is not correct--> #false\n",
        "\n",
        "#We also can check if two numbers hold same value using conditional statement\n",
        "#this is called if statement it is a conditional statement used to check whether the instruction is true or not\n",
        "\n",
        "#if this is correct do the following:\n",
        "if Number1 == Number2:\n",
        "#do the following if this line  is correct\n",
        "    print(\"This is right\")\n",
        "#else do this if the first line isn't correct    \n",
        "else:\n",
        "    print(\"This is wrong\")"
      ],
      "execution_count": 0,
      "outputs": [
        {
          "output_type": "stream",
          "text": [
            "False\n",
            "This is wrong\n"
          ],
          "name": "stdout"
        }
      ]
    },
    {
      "cell_type": "markdown",
      "metadata": {
        "id": "BZ30jRIJvZ0y",
        "colab_type": "text"
      },
      "source": [
        "<h3>Example 4:</h3>\n",
        "<h3><font color=\"Blue\">Lists In Python:</font></h3>\n",
        "<h5>Lists are the same as arrays in other programming languages,it allows you to store an enumerated set of elements in one place</h5>"
      ]
    },
    {
      "cell_type": "markdown",
      "metadata": {
        "id": "Plyaf7vtvZ0z",
        "colab_type": "text"
      },
      "source": [
        "<h3><font color=\"Blue\">Indexing in Python:</font></h3>\n",
        "<h5>Indexing in Python is the same as counting stuff in real life, the only difference is that it start at<fontcolor=\"red\">Zero </font>for Python, also indexing allows you to access,change,delete a single cell of a list<h5>"
      ]
    },
    {
      "cell_type": "markdown",
      "metadata": {
        "id": "uvNGBmTHvZ0z",
        "colab_type": "text"
      },
      "source": [
        "<h3><font color=\"Blue\">Slicing in Python:</font></h3>\n",
        "<h5>Slicing is indexing syntax that extracts a portion from a list</h5>"
      ]
    },
    {
      "cell_type": "code",
      "metadata": {
        "id": "CHj0hoskvZ00",
        "colab_type": "code",
        "outputId": "83fa0b81-9369-4ee4-a8f3-d16fc9d5337b",
        "colab": {}
      },
      "source": [
        "#Indexing #Indexing #Indexing\n",
        "\n",
        "#We defined 2 lists the first one holds colors second one holds integers\n",
        "\n",
        "myListOfColors = [\"Green\",\"Blue\",\"Red\",\"Yellow\",\"Purple\"]\n",
        "        #indexing    0      1      2      3         4\n",
        "#reverse indexing   -5     -4     -3     -2        -1\n",
        "\n",
        "myListOfNumbers =  [1, 2, 3, 4, 5, 6, 7, 8, 9, 10] #note: don't put space between commas this is just for explanation\n",
        "        #Indexing   0  1  2  3  4  5  6  7  8   9\n",
        "#Reverse indexing -10 -9 -8 -7 -6 -5 -4 -3 -2  -1\n",
        "\n",
        "# Python start indexing at 0 unlike in real life which starts at 1\n",
        "# lets try to print out the Red color which holds index of 2\n",
        "print(myListOfColors[2])\n",
        "# lets do the same thing with reverse indexing\n",
        "print(myListOfColors[-3])\n",
        "\n",
        "#Slicing Slicing Slicing\n",
        "myStrings = \"Hello my name is python and i am a string\"\n",
        "\n",
        "#We have a string that holds a sentence\n",
        "myStrings[0:23:1]\n",
        "        #[start:Stop:StepSize]\n",
        "        #Start is the position where you want to start to count from\n",
        "        #Stop is the position where you want to stop at\n",
        "        #Do remember that stop means go up to but not including in this example we stop at 23 so it only print 22 letters\n",
        "        #   0    23     1\n"
      ],
      "execution_count": 0,
      "outputs": [
        {
          "output_type": "stream",
          "text": [
            "Red\n",
            "Red\n"
          ],
          "name": "stdout"
        },
        {
          "output_type": "execute_result",
          "data": {
            "text/plain": [
              "'Hello my name is python'"
            ]
          },
          "metadata": {
            "tags": []
          },
          "execution_count": 19
        }
      ]
    },
    {
      "cell_type": "code",
      "metadata": {
        "id": "6CJ-Fd3evZ03",
        "colab_type": "code",
        "colab": {}
      },
      "source": [
        ""
      ],
      "execution_count": 0,
      "outputs": []
    }
  ]
}