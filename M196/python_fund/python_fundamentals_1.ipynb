{
 "cells": [
  {
   "cell_type": "markdown",
   "metadata": {
    "colab_type": "text",
    "id": "QedF985a914Z"
   },
   "source": [
    "<br><h1><center>python fundamentals</center></h1></br>\n",
    "\n",
    "![types](https://raw.githubusercontent.com/someone20dz/UCLA_Splash_2020_Tutorial_Resources/master/M196/python_fund/images/1_b3sa3Kkdyv4diV26-DzdPQ.png)\n",
    "\n",
    "<h2>Table of Contents</h2>\n",
    "\n",
    "* <h4>Introduction to programming language</h4>\n",
    "* <h4>Introduction to Python</h4>\n",
    "* <h4>Python characteristics and Features</h4>\n",
    "* <h4>Introduction to Python Basics</h4>\n",
    "* <h4>What is a programming language</h4>\n",
    "---------------------------------------------------------------------------------------------\n",
    "\n",
    "![test](https://raw.githubusercontent.com/someone20dz/UCLA_Splash_2020_Tutorial_Resources/master/M196/python_fund/images/thumb-1920-679140.png)\n",
    "\n",
    "\n",
    "<b>Steve Jobs once said \"Everybody in this country should learn how to program a computer because it teaches you how to think.\" Language has been our primary means of communication with each other for thousands of years, but things have changed since the past 20 years. We are now able to communicate with technology since it is a ubiquitous medium. Our world is filled with computers and what they all have in common is the numerical language they use to communicate and all their functionalities and features are based on programming. When you look at the modern code you use to program your computer, you’ll find it’s not much different than what you write as texts or emails. There are many pieces of hardware and software that need to communicate with each other which is why programming languages became the way of interacting with our computers. Computing makes communication easier for many reasons, including but not limited to:</b>\n",
    "<br></br>\n",
    "1. <b>Computer communication is a useful tool in both personal and business settings.</b>\n",
    "2. <b>The ability to communicate across great distances and for unlimited number of people.</b>\n",
    "3. <b>Provides people who are not able to be with each other the opportunity of live written conversation.</b>\n",
    "4. <b>Enhances communication and availability of information</b>\n",
    "5. <b>Connects you to the Internet.</b>\n",
    "6. <b>Increase your productivity.</b>\n",
    "7. <b>Can store vast amounts of information and reduce waste.</b>\n",
    "8. <b>Helps sort, organize, and search through information.</b>\n",
    "9. <b>Have a better understanding of data.</b>\n",
    "10. <b>keeps you informed</b>\n",
    "11. <b>Improves your abilities</b>\n",
    "12. <b>Keep you entertained</b>\n",
    "13. <b>Makes file sharing easier.</b>\n",
    "\n",
    "<h2>Introduction to Python:</h2>\n",
    "------------------------------------------------------------\n",
    "\n",
    "<b>Python is a very simple programming language, developed in the late 1980s by Guido van Rossum at the National Research Institute in Netherlands and it was released in the year 1991. Python is designed to be highly readable,it uses English keywords frequently where as other languages use punctuation, and it has fewer syntactical constructions than other languages.</b>\n",
    "\n",
    "\n",
    "<h2>Python Features and characteristics</h2>\n",
    "------------------------------------------------------------------------------------------------\n",
    "\n",
    "<h3>Python Features</h3>\n",
    "--------------------------------------<br> </br>\n",
    "\n",
    "* <b>Easy-to-learn: python has simple structure, and a simple syntax This allows the student to pick up the language quickly and it can be easily coded and read.</b>\n",
    "\n",
    "* <b>Easy-to-read: Python code is more clearly defined and visible to the eyes.</b>\n",
    "\n",
    "* <b>Portable: Python can run on a wide variety of hardware platforms and has the same interface on all of them.</b>\n",
    "\n",
    "* <b>Extendable: You can add low-level modules to the Python interpreter. These modules enable programmers to add to or customize their tools to be more efficient.</b>\n",
    "\n",
    "* <b>GUI Programming: Python supports GUI applications (Graphical user interfaces) that can be developed using Python.</b>\n",
    "\n",
    "* <b>Large standard library: Python comes with a large standard library that has lot of handy codes and functions which we can use while writing code in Python.</b>\n",
    "\n",
    "<h3>Python characteristics</h3>\n",
    "-----------------------------------------------------\n",
    "\n",
    "<h3>High-level language:</h3><br></br> \n",
    "* <b>It is a high-level language used for scripting. It means one does not need to remember the system architecture and no need for managing the memory as well.</b>\n",
    "\n",
    "<h3>Open source:</h3><br></br> \n",
    "<b>Python is open source and readily available over the internet anywhere. One does not need to take the license of it. It can be easily downloaded and use.</b>\n",
    "\n",
    "<h3>Databases:</h3><br></br> \n",
    "<b>Python provides interfaces to all major commercial databases.</b>\n",
    "\n",
    "<h3>Interpreted:</h3><br></br> \n",
    "<b>The python code does not need to compile as required for other languages. Python code automatically converts the source code into byte code internally and the code is executed line by line not at once, so it takes more time to execute the code for the application.</b>\n",
    "\n",
    "<h3>Platform independent:</h3><br></br> \n",
    " <b>Python is platform independent. The python code can be used for any operating system like Windows, Unix, Linux, and Mac. There is no need to write different code for the different OS.</b>\n",
    "\n",
    "<h3>Interactive Mode:</h3><br></br> \n",
    "<b>Python has support for an interactive mode which allows interactive testing and debugging of snippets of code.</b>\n",
    "\n",
    "<h3>A broad standard library:</h3><br></br> \n",
    "<b>Python's bulk of the library is very portable and cross-platform compatible on UNIX, Windows, and Macintosh.</b>\n",
    "\n",
    "<h3>Scalable:</h3><br></br> \n",
    "<b>Python provides a better structure and support for large programs than shell scripting.</b>\n",
    "\n",
    "<h2>Introduction to Python Basics</h2>\n",
    "-------------------------------------------------------------------------------\n",
    "\n",
    "In this part we are going to cover the basics of python lets start with variables and how to use them\n",
    "\n",
    "Variables: You can think of variables as box container like we can store stuff in a box we store data in side variables\n",
    "\n",
    "![types](https://raw.githubusercontent.com/someone20dz/UCLA_Splash_2020_Tutorial_Resources/master/M196/python_fund/images/types.png)\n",
    "\n",
    "\n",
    "Variables:\n",
    "\n",
    "Intgers: whole numbers that holds one element positive or negative such as:\n",
    "0 1 -6 -2565 5656\n",
    "WE refer to Intgers in side a python program with (int)\n",
    "\n",
    "Floats: are decimal point numbers it can hold one element such as:\n",
    "1.0 6685.0 -568.5685 -5.59 23.59\n",
    "WE refer to Floats in side a python program with (float)\n",
    "\n",
    "Strings: ordered sequence of characters it can hold a whole text such as:\n",
    "\"Hello\",\"am student i am learning python to become python developer\"\n",
    "We refer to Strings in side a python program with (str)\n",
    "\n",
    "Booleans: logical value refers to True or False such as: \n",
    "10 > 16 which is of ocurs False\n",
    "We refer to Booleans in side a python program with (bool)\n",
    "\n",
    "Lists: ordered sequence of objects,Lists are mutable they can be altered even after their creation such as:\n",
    "myList = [10,\"john\",\"10\"]\n",
    "We refer to Lists in side a python program with (list)\n",
    "\n",
    "Dictionaries: collection of data values unlike other Data Types that hold only single value as an element dictionary holds 2 elements keys:value such ah myDictionary = {\"apples\":10,orange:13} or {\"name\":\"age\",\"john\":\"21\"}\n",
    "We refer to Lists in side a python program with (dict)\n",
    "\n",
    "Tuples: a sequence of immutable objects Tuples are sequences just like lists but they are immutable they can't be altered after their creation such as: \n",
    "myTuple = (\"apple\", \"banana\", \"cherry\")\n",
    "We refer to Typles in side a python program with (tup)\n",
    "\n",
    "Sets: unordered collection data type that is iterable,mutable,unindexed\n",
    "\n",
    "later we will cover what does indexing, mutable,unmutable,iterable,uniterable meaning for now lets go through some examples"
   ]
  },
  {
   "cell_type": "markdown",
   "metadata": {},
   "source": [
    "<h1>Example1:</h1>"
   ]
  },
  {
   "cell_type": "markdown",
   "metadata": {},
   "source": [
    "<h3>If you are using <font color=\"green\">jupyter notebook</font> or <font color=\"green\">google colab</font> press<font color=\"green\">Shift + Enter</font> to excute a cell</h3>\n",
    "\n",
    "<h3>If you are using <font color=\"green\">Pycharm</font> press <font color=\"green\">Shift + F10</font></h3>"
   ]
  },
  {
   "cell_type": "code",
   "execution_count": 13,
   "metadata": {},
   "outputs": [
    {
     "name": "stdout",
     "output_type": "stream",
     "text": [
      "10\n",
      "16.26\n",
      "Hello i am python\n",
      "True\n",
      "['Hello', 2000, 19.656]\n",
      "\n"
     ]
    }
   ],
   "source": [
    "#Variables and how to use them\n",
    "\n",
    "#In order to create your first variable you first have to give it a name and a value\n",
    "#Example:\n",
    "Num1 = 10\n",
    "Num2 = 16.26\n",
    "text = \"Hello this is  Python\"\n",
    "myBool = True\n",
    "myList = [\"Hello\",2000,19.656]\n",
    "\n",
    "#Let me introduce you to a new function called print, this function allows you to print a message on the scree\n",
    "print(Num1)\n",
    "print(Num2)\n",
    "print(text)\n",
    "print(myBool)\n",
    "print(myList)\n",
    "\n",
    "#Please note that python is key sensitive what I mean by that is if you print num1 it will give an error\n",
    "#Becuase the first letter of Num is Upper case\n",
    "\n",
    "#Task for you to solove\n",
    "#Print out a message on the screen includes the following text: Hello This is my first line of code in python\n",
    "print()"
   ]
  },
  {
   "cell_type": "markdown",
   "metadata": {},
   "source": [
    "<h1>Example2:</h1>"
   ]
  },
  {
   "cell_type": "code",
   "execution_count": 14,
   "metadata": {},
   "outputs": [
    {
     "name": "stdout",
     "output_type": "stream",
     "text": [
      "237.65\n",
      "\n"
     ]
    }
   ],
   "source": [
    "#Variables and how to use them 2\n",
    "\n",
    "#Lets do some math calculation using variables:\n",
    "#Lets do real life math in Python\n",
    "\n",
    "#First Variable holds value of 1.65\n",
    "myNum1 = 1.65\n",
    "#Second Variable holds value of \n",
    "myNum2 = 236\n",
    "#Third Variable holds the sum of the first variable and second variable\n",
    "result = myNum1 + myNum2\n",
    "\n",
    "print(result)\n",
    "\n",
    "\n",
    "#Task for you to solove\n",
    "#Write a program that allow you to do the following operations\n",
    "# 10 + 22 * 2\n",
    "print()"
   ]
  },
  {
   "cell_type": "markdown",
   "metadata": {},
   "source": [
    "<h1>Example3:</h1>"
   ]
  },
  {
   "cell_type": "code",
   "execution_count": 3,
   "metadata": {},
   "outputs": [
    {
     "name": "stdout",
     "output_type": "stream",
     "text": [
      "[1, 2, 3, 4, 5, 6, 7, 8, 9, 10]\n",
      "4\n",
      "7\n",
      "10\n",
      "4\n",
      "[60, 'testing', 'Add me']\n",
      "\n",
      "\n"
     ]
    }
   ],
   "source": [
    "#Lists and how to use them\n",
    "\n",
    "#In python We define a List like we do with variables insted it have Square Brackets\n",
    "\n",
    "#Example\n",
    "myFirstList = [1,2,3,4,5,6,7,8,9,10]\n",
    "     #Indexing 0 1 2 3 4 5 6 7 8 9    \n",
    "#reverse     -10-9-8-7-6-5-4-3-2-1\n",
    "#    Indexing\n",
    "\n",
    "#For instance lets print the Whole list \n",
    "print(myFirstList)\n",
    "\n",
    "#Indexing Indexing Indexing:\n",
    "\n",
    "#Lets grab certain element from the list, Indexing in python starts at 0 unlike real life\n",
    "#in this case we have can print number 4 from the list which holds index of 3\n",
    "print(myFirstList[3])\n",
    "\n",
    "#More examples\n",
    "print(myFirstList[6])\n",
    "print(myFirstList[9])\n",
    "\n",
    "#reverse Indexing  reverse Indexing  Ireverse ndexing\n",
    "#Python supports reverse indexing which is counting from the last element with a negative number\n",
    "\n",
    "#Example\n",
    "#Lets print the number 4 but this time with reverse indexing\n",
    "print(myFirstList[-7])\n",
    "\n",
    "#Example\n",
    "#Lets see how can we Add and remove items from a list \n",
    "myEditedList = [\"Remove me\",60,\"testing\"]\n",
    "\n",
    "#To remove elements from a list we will use a function called .pop()\n",
    "myEditedList.pop(0)\n",
    "#To add elements to a list we can use .append() function\n",
    "myEditedList.append(\"Add me\")\n",
    "print(myEditedList)\n",
    "\n",
    "#Task for you to solove\n",
    "#You have a list that contain 5 string elements, go ahead and print the first and the last element using indexing\n",
    "\n",
    "mySecondList = [\"I love\",\"javascript\",\"C++\",\"Java\",\"Python\"]\n",
    "print()\n",
    "\n",
    "#Task for you to solove\n",
    "#Given the following list print out the last 4 elements using reverse indexing\n",
    "myThirdList = [32,548,4845,489,546,333,5484,165,41847894,456465,8,1,2,3,4]\n",
    "print()"
   ]
  },
  {
   "cell_type": "markdown",
   "metadata": {},
   "source": [
    "<h1>Example4:</h1>"
   ]
  },
  {
   "cell_type": "code",
   "execution_count": 12,
   "metadata": {},
   "outputs": [
    {
     "name": "stdout",
     "output_type": "stream",
     "text": [
      "{'Bannana': 16, 'Orange': 6}\n"
     ]
    }
   ],
   "source": [
    "#Dictionaries and how to use them\n",
    "\n",
    "#Dictionaries use curly braces insted of square brackets\n",
    "# a dictionary Hold 2 elements the first one called Key and the second one Called Value\n",
    "          #\"Value:        10\"\n",
    "myDictionary = {\"Bannana\":10,\"Orange\":6}\n",
    "          #\"Key: Bannana\" \n",
    "    \n",
    "#Lets try to add more stuff to our Dictionary\n",
    "myDictionary[\"Pear\"] = 62\n",
    "\n",
    "#Lets try to edit on an existing Key in our Dictionary\n",
    "myDictionary[\"Bannana\"] = 16\n",
    "\n",
    "#This is how we can delete keys from a Dictionary\n",
    "del myDictionary[\"Pear\"]\n",
    "\n",
    "print(myDictionary)"
   ]
  },
  {
   "cell_type": "code",
   "execution_count": null,
   "metadata": {},
   "outputs": [],
   "source": []
  }
 ],
 "metadata": {
  "colab": {
   "collapsed_sections": [],
   "name": "python_fundamentals_.ipynb",
   "provenance": []
  },
  "kernelspec": {
   "display_name": "Python 3",
   "language": "python",
   "name": "python3"
  },
  "language_info": {
   "codemirror_mode": {
    "name": "ipython",
    "version": 3
   },
   "file_extension": ".py",
   "mimetype": "text/x-python",
   "name": "python",
   "nbconvert_exporter": "python",
   "pygments_lexer": "ipython3",
   "version": "3.7.4"
  }
 },
 "nbformat": 4,
 "nbformat_minor": 1
}
