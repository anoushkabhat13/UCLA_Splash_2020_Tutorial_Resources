{
 "cells": [
  {
   "cell_type": "markdown",
   "metadata": {
    "colab_type": "text",
    "id": "QedF985a914Z"
   },
   "source": [
    "<br></br>\n",
    "<h1 style=\"text-align:center;\">python fundamentals</h1>\n",
    "\n",
    "![test](https://raw.githubusercontent.com/someone20dz/UCLA_Splash_2020_Tutorial_Resources/master/M196/python_fund/images/1_b3sa3Kkdyv4diV26-DzdPQ.png)\n",
    "\n",
    "<h2>Table of Contents</h2>\n",
    "\n",
    "<h4>1. Introduction to programming language</h4>\n",
    "\n",
    "<h4>2. Introduction to Python</h4>\n",
    "\n",
    "<h4>3. Python characteristics and Features</h4>\n",
    "\n",
    "<h2>1. Introduction to programming languag</h2>\n",
    "---------------------------------------------------------------------------------------------\n",
    "\n",
    "<h3>Steve Jobs once said \"Everybody in this country should learn how to program a computer because it teaches you how to think.\" Language has been our primary means of communication with each other for thousands of years, but things have changed since the past 20 years. We are now able to communicate with technology since it is a ubiquitous medium. Our world is filled with computers and what they all have in common is the numerical language they use to communicate and all their functionalities and features are based on programming. When you look at the modern code you use to program your computer, you’ll find it’s not much different than what you write as texts or emails. There are many pieces of hardware and software that need to communicate with each other which is why programming languages became the way of interacting with our computers. Computing makes communication easier for many reasons, including but not limited to:</h3>\n",
    "\n",
    "![testa](https://raw.githubusercontent.com/someone20dz/UCLA_Splash_2020_Tutorial_Resources/master/M196/python_fund/images/thumb-1920-679140.png)\n",
    "\n",
    " <h4>1. Computer communication is a useful tool in both personal and business settings.<h4>\n",
    " <h4>2. The ability to communicate across great distances and for unlimited number of people.</h4>\n",
    " <h4>3. Provides people who are not able to be with each other the opportunity of live written conversation.</h4>\n",
    " <h4>4. Enhances communication and availability of information</h4>\n",
    " <h4>5. Connects you to the Internet.</h4>\n",
    " <h4>6. Increase your productivity.</h4>\n",
    " <h4>7. Can store vast amounts of information and reduce waste.</h4>\n",
    " <h4>8. Helps sort, organize, and search through information.</h4>\n",
    " <h4>9. Have a better understanding of data.</h4>\n",
    " <h4>10. keeps you informed</h4>\n",
    " <h4>11. Improves your abilities</h4>\n",
    " <h4>12. Keep you entertained</h4>\n",
    " <h4>13. Makes file sharing easier.</h4>\n",
    "\n",
    "<h2>2. Introduction to Python:</h2>\n",
    "------------------------------------------------------------\n",
    "\n",
    "<b>Python is a very simple programming language, developed in the late 1980s by Guido van Rossum at the National Research Institute in Netherlands and it was released in the year 1991. Python is designed to be highly readable,it uses English keywords frequently where as other languages use punctuation, and it has fewer syntactical constructions than other languages.</b>\n",
    "\n",
    "\n",
    "<h2>3. Python Features and characteristics</h2>\n",
    "------------------------------------------------------------------------------------------------\n",
    "\n",
    "<h3>Python Features</h3>\n",
    "--------------------------------------\n",
    "\n",
    " <h3>Easy-to-learn:</h3>\n",
    "\n",
    "<h5>python has simple structure, and a simple syntax This allows the student to pick up the language quickly and it can be easily coded and read.</h5>\n",
    "\n",
    " <h3>Easy-to-read:</h3>\n",
    "\n",
    "<h5>Python code is more clearly defined and visible to the eyes.</h5>\n",
    "\n",
    " <h3>Portable:</h3>\n",
    "\n",
    "<h5>Python can run on a wide variety of hardware platforms and has the same interface on all of them.</h5>\n",
    "\n",
    " <h3>Extendable:</h3>\n",
    "\n",
    "<h5>You can add low-level modules to the Python interpreter. These modules enable programmers to add to or customize their tools to be more efficient.</h5>\n",
    "\n",
    " <h3>GUI Programming:</h3>\n",
    "\n",
    "<h5>Python supports GUI applications (Graphical user interfaces) that can be developed using Python.</h5>\n",
    "\n",
    " <h3>Large standard library:</h3>\n",
    "\n",
    "<h5>Python comes with a large standard library that has lot of handy codes and functions which we can use while writing code in Python.</h5>\n",
    "\n",
    "<h3>Python characteristics</h3>\n",
    "-----------------------------------------------------\n",
    "\n",
    "* <h3>High-level language:</h3>\n",
    "\n",
    "<h5>It is a high-level language used for scripting. It means one does not need to remember the system architecture and no need for managing the memory as well.</h5>\n",
    "\n",
    "* <h3>Open source:</h3>\n",
    "\n",
    "<h5>Python is open source and readily available over the internet anywhere. One does not need to take the license of it. It can be easily downloaded and use.</h5>\n",
    "\n",
    "* <h3>Databases:</h3>\n",
    "\n",
    "<h5>Python provides interfaces to all major commercial databases.</h5>\n",
    "\n",
    "* <h3>Interpreted:</h3>\n",
    "\n",
    "<h5>The python code does not need to compile as required for other languages. Python code automatically converts the source code into byte code internally and the code is executed line by line not at once, so it takes more time to execute the code for the application.</h5>\n",
    "\n",
    "* <h3>Platform independent:</h3>\n",
    "\n",
    "<h5>Python is platform independent. The python code can be used for any operating system like Windows, Unix, Linux, and Mac. There is no need to write different code for the different OS.</h5>\n",
    "\n",
    "* <h3>Interactive Mode:</h3>\n",
    "\n",
    "<h5>Python has support for an interactive mode which allows interactive testing and debugging of snippets of code.</h5>\n",
    "\n",
    "* <h3>A broad standard library:</h3>\n",
    "\n",
    "<h5>Python's bulk of the library is very portable and cross-platform compatible on UNIX, Windows, and Macintosh.</h5>\n",
    "\n",
    "* <h3>Scalable:</h3>\n",
    "\n",
    "<h5>Python provides a better structure and support for large programs than shell scripting.</h5>\n",
    "\n",
    "<h2> Introduction to Python Basics</h2>\n",
    "-------------------------------------------------------------------------------\n",
    "\n",
    "<h5>In this part we are going to cover the basics of python lets start with variables and how to use them</h5>\n",
    "\n",
    "<h5>Variables: You can think of variables as box container like we can store stuff in a box we store data in side variables<h5\n",
    "\n",
    "![types](https://raw.githubusercontent.com/someone20dz/UCLA_Splash_2020_Tutorial_Resources/master/M196/python_fund/images/types.png)\n",
    "\n",
    "<h2>Variables Types:</h2>\n",
    "\n",
    "<h5>Intgers: whole numbers that holds one element positive or negative such as:\n",
    "0 1 -6 -2565 5656\n",
    "WE refer to Intgers in side a python program with (int)</h5>\n",
    "\n",
    "<h5>Floats: are decimal point numbers it can hold one element such as:\n",
    "1.0 6685.0 -568.5685 -5.59 23.59\n",
    "WE refer to Floats in side a python program with (float)</h5>\n",
    "\n",
    "<h5>Strings: ordered sequence of characters it can hold a whole text such as:\n",
    "\"Hello\",\"am student i am learning python to become python developer\"\n",
    "We refer to Strings in side a python program with (str)</h5>\n",
    "\n",
    "<h5>Booleans: logical value refers to True or False such as: \n",
    "10 > 16 which is of ocurs False\n",
    "We refer to Booleans in side a python program with (bool)</h5>\n",
    "\n",
    "<h5>Lists: ordered sequence of objects,Lists are mutable they can be altered even after their creation such as:\n",
    "myList = [10,\"john\",\"10\"]\n",
    "We refer to Lists in side a python program with (list)</h5>\n",
    "\n",
    "<h5>Dictionaries: collection of data values unlike other Data Types that hold only single value as an element dictionary holds 2 elements keys:value such ah myDictionary = {\"apples\":10,orange:13} or {\"name\":\"age\",\"john\":\"21\"}\n",
    "We refer to Lists in side a python program with (dict)</h5>\n",
    "\n",
    "<h5>Tuples: a sequence of immutable objects Tuples are sequences just like lists but they are immutable they can't be altered after their creation such as: \n",
    "myTuple = (\"apple\", \"banana\", \"cherry\")\n",
    "We refer to Typles in side a python program with (tup)</h5>\n",
    "\n",
    "<h5>Sets: unordered collection data type that is iterable,mutable,unindexed</h5>\n",
    "\n",
    "<h5>later we will cover what does indexing, mutable,unmutable,iterable,uniterable meaning for now lets go through some examples</h5>"
   ]
  },
  {
   "cell_type": "markdown",
   "metadata": {},
   "source": [
    "<h1>Examples:</h1>"
   ]
  },
  {
   "cell_type": "markdown",
   "metadata": {},
   "source": [
    "<h3>Example 1:</h3>"
   ]
  },
  {
   "cell_type": "code",
   "execution_count": 1,
   "metadata": {},
   "outputs": [
    {
     "name": "stdout",
     "output_type": "stream",
     "text": [
      "Hello Wolds\n",
      "Hello Python\n"
     ]
    }
   ],
   "source": [
    "#Quick tip: if you are using jupyter or google colab you can use Shift + Enter to run a cell \n",
    "#           if you are using pycharm you can simply do Shift + F10\n",
    "\n",
    "#Variable and how to use them:\n",
    "#Example One\n",
    "\n",
    "#In order to use variables in any programming language we to have to give it a name so it can hold one of the data types\n",
    "#quick example of that would be the following.\n",
    "#look at the word myText.\n",
    "myText = \"Hello Wolds\"\n",
    "mytext = 'Hello Python'\n",
    "#what do we have here is a variable of type string how do we know that? very simple\n",
    "#myText here refers to the name of the variable,what comes next is the symbol (=)\n",
    "#what comes after this symbol refers to the value that the variable holds.\n",
    "#in this case our variable hold a string, because its in between double quotation mark \"\"\n",
    "#we can also put our text in side single quotation 'Hi,How are you?'.\n",
    "\n",
    "#Before we move to any other data types let me introduce you a function that allows us to Print a message onto the screen.\n",
    "\n",
    "#In order to do that we just type print()\n",
    "#and what comes between the parentheses will be the thing that you want to see on the screen\n",
    "#In this is we want to print our text in side the varaible myText\n",
    "print(myText)\n",
    "print(mytext)\n",
    "#Quick task for you:\n",
    "#What i want you to do is print out both the first and second text on the screen "
   ]
  },
  {
   "cell_type": "markdown",
   "metadata": {},
   "source": [
    "<h1>Examples:</h1>"
   ]
  },
  {
   "cell_type": "markdown",
   "metadata": {},
   "source": [
    "<h3>Examplem 2:</h3>"
   ]
  },
  {
   "cell_type": "code",
   "execution_count": 4,
   "metadata": {},
   "outputs": [
    {
     "name": "stdout",
     "output_type": "stream",
     "text": [
      "25.2\n"
     ]
    }
   ],
   "source": [
    "#Variable and how to use them:\n",
    "#Example Two\n",
    "\n",
    "#We saw before how to create a variable and give it certain data type\n",
    "#Now we are going through integers floats and how to use simple math calculations\n",
    "\n",
    "#We do have here 2 variables\n",
    "# First varaible hold intger data type\n",
    "numberOne = 10\n",
    "# Second variable hold float data type\n",
    "numberTwo = 15.2\n",
    "\n",
    "#Let's go ahead and try to get the sum of both numbers\n",
    "#Now we can store the sum in side a new variable called for instance result\n",
    "#what we do next is pass in the first varaible plus the second varaible in order to get sum of two numbers\n",
    "result = numberOne + numberTwo\n",
    "\n",
    "#printing the result\n",
    "print(result)"
   ]
  },
  {
   "cell_type": "code",
   "execution_count": null,
   "metadata": {},
   "outputs": [],
   "source": []
  }
 ],
 "metadata": {
  "colab": {
   "collapsed_sections": [],
   "name": "python_fundamentals_.ipynb",
   "provenance": []
  },
  "kernelspec": {
   "display_name": "Python 3",
   "language": "python",
   "name": "python3"
  },
  "language_info": {
   "codemirror_mode": {
    "name": "ipython",
    "version": 3
   },
   "file_extension": ".py",
   "mimetype": "text/x-python",
   "name": "python",
   "nbconvert_exporter": "python",
   "pygments_lexer": "ipython3",
   "version": "3.7.4"
  }
 },
 "nbformat": 4,
 "nbformat_minor": 1
}
